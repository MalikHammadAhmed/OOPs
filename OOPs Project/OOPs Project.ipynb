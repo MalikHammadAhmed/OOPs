{
 "cells": [
  {
   "cell_type": "code",
   "execution_count": 93,
   "id": "f184e31b",
   "metadata": {},
   "outputs": [],
   "source": [
    "# Card Class\n",
    "# Suit,Rank,Value\n",
    "# Deck Class\n",
    "#Player Class\n",
    "\n",
    "import random\n",
    "\n",
    "suits = ('Hearts','Diamonds', 'Spades', 'Clubs')\n",
    "ranks = ('Two', 'Three', 'Four', 'Five', 'Six', 'Seven', 'Eight', 'Nine', 'Ten', 'Jack', 'Queen', 'King', 'Ace')\n",
    "\n",
    "values = {'Two':2, 'Three':3, 'Four':4, 'Five':5, 'Six':6, 'Seven':7, 'Eight':8,\n",
    "          'Nine':9,'Ten':10, 'Jack':11, 'Queen':12, 'King':13, 'Ace':14}"
   ]
  },
  {
   "cell_type": "code",
   "execution_count": 94,
   "id": "f6614788",
   "metadata": {},
   "outputs": [],
   "source": [
    "class Card:\n",
    "    def __init__(self,suit,rank):\n",
    "        self.suit = suit\n",
    "        self.rank = rank\n",
    "        self.value = values[rank]\n",
    "        \n",
    "    def __str__(self):\n",
    "        return self.rank + \" of \" + self.suit"
   ]
  },
  {
   "cell_type": "code",
   "execution_count": null,
   "id": "03c7789a",
   "metadata": {},
   "outputs": [],
   "source": [
    "class Deck:\n",
    "    \n",
    "    def __init__(self):\n",
    "        # Note this only happens once upon creation of a new Deck\n",
    "        self.all_cards = [] \n",
    "        for suit in suits:\n",
    "            for rank in ranks:\n",
    "                # This assumes the Card class has already been defined!\n",
    "                self.all_cards.append(Card(suit,rank))\n",
    "                \n",
    "    def shuffle(self):\n",
    "        # Note this doesn't return anything\n",
    "        random.shuffle(self.all_cards)\n",
    "        \n",
    "    def deal_one(self):\n",
    "        # Note we remove one card from the list of all_cards\n",
    "        return self.all_cards.pop() "
   ]
  }
 ],
 "metadata": {
  "kernelspec": {
   "display_name": "Python 3 (ipykernel)",
   "language": "python",
   "name": "python3"
  },
  "language_info": {
   "codemirror_mode": {
    "name": "ipython",
    "version": 3
   },
   "file_extension": ".py",
   "mimetype": "text/x-python",
   "name": "python",
   "nbconvert_exporter": "python",
   "pygments_lexer": "ipython3",
   "version": "3.10.9"
  }
 },
 "nbformat": 4,
 "nbformat_minor": 5
}
